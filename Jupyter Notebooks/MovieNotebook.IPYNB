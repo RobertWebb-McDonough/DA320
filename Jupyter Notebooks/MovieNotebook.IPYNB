{
 "cells": [
  {
   "attachments": {},
   "cell_type": "markdown",
   "metadata": {},
   "source": [
    "Gets the raw data From MetaCritic for 2009"
   ]
  },
  {
   "cell_type": "code",
   "execution_count": 1,
   "metadata": {},
   "outputs": [
    {
     "name": "stdout",
     "output_type": "stream",
     "text": [
      "200\n",
      "521587\n"
     ]
    }
   ],
   "source": [
    "import urllib3\n",
    "import certifi\n",
    "\n",
    "link = \"https://www.metacritic.com/browse/movies/score/metascore/year/filtered?year_selected=2009&sort=desc&view=detailed\"\n",
    "user = \"Mozilla/5.0 (Windows NT 10.0; Win64; x64; rv:105.0) Gecko/20100101 Firefox/105.0\"\n",
    "\n",
    "http = urllib3.PoolManager(ca_certs=certifi.where())\n",
    "\n",
    "r = http.request('GET', link, headers = {\"User-Agent\": user})\n",
    "\n",
    "datastring = str(r.data, \"utf-8\")\n",
    "\n",
    "print(r.status)\n",
    "print(len(datastring))\n"
   ]
  },
  {
   "attachments": {},
   "cell_type": "markdown",
   "metadata": {},
   "source": [
    "Find all of the titles of the top 100 Movies in 2009"
   ]
  },
  {
   "cell_type": "code",
   "execution_count": 2,
   "metadata": {},
   "outputs": [
    {
     "name": "stdout",
     "output_type": "stream",
     "text": [
      "Found 100 matches. The first match is 'The Hurt Locker'.\n"
     ]
    }
   ],
   "source": [
    "import re\n",
    "\n",
    "txt = datastring\n",
    "regex_title = \"class=\\\"title\\\"><h3>(.*)<\\/h3><\\/a>\"\n",
    "\n",
    "titles = re.findall(regex_title, txt)\n",
    "print(f\"Found {len(titles)} matches. The first match is '{titles[0]}'.\")"
   ]
  },
  {
   "attachments": {},
   "cell_type": "markdown",
   "metadata": {},
   "source": [
    "Find all of the Release Dates for movies in 2009"
   ]
  },
  {
   "cell_type": "code",
   "execution_count": 3,
   "metadata": {},
   "outputs": [
    {
     "name": "stdout",
     "output_type": "stream",
     "text": [
      "Found 100 matches. The first match is 'June 26, 2009'.\n"
     ]
    }
   ],
   "source": [
    "regex_date = \"<div class=\\\"clamp-details\\\">\\s+<span>(.*)<\\/span>\"\n",
    "\n",
    "dates = re.findall(regex_date, txt)\n",
    "print(f\"Found {len(dates)} matches. The first match is '{dates[0]}'.\")"
   ]
  },
  {
   "attachments": {},
   "cell_type": "markdown",
   "metadata": {},
   "source": [
    "Find all the MetaScores for 2009"
   ]
  },
  {
   "cell_type": "code",
   "execution_count": 4,
   "metadata": {},
   "outputs": [
    {
     "name": "stdout",
     "output_type": "stream",
     "text": [
      "Found 100 matches. The first match is '95'.\n"
     ]
    }
   ],
   "source": [
    "regex_score = \"<div class=\\\"metascore_w large movie positive\\\">(.*)<\\/div>\\s+<\\/a>\\n\\s+<\\/div>\\n\\n\"\n",
    "\n",
    "scores = re.findall(regex_score, txt)\n",
    "print(f\"Found {len(scores)} matches. The first match is '{scores[0]}'.\")"
   ]
  },
  {
   "attachments": {},
   "cell_type": "markdown",
   "metadata": {},
   "source": [
    "Find all Summaries for movies is 2009"
   ]
  },
  {
   "cell_type": "code",
   "execution_count": 5,
   "metadata": {},
   "outputs": [
    {
     "name": "stdout",
     "output_type": "stream",
     "text": [
      "Found 100 matches. The first match is 'When a new sergeant, James (Jeremy Renner), takes over a highly trained bomb disposal team amidst violent conflict, he surprises his two subordinates, Sanborn (Anthony Mackie) and Eldridge (Brian Geraghty), by recklessly plunging them into a deadly game of urban combat. James behaves as if he's indifferent to death. As the men struggle to control their wild new leader, the city explodes into chaos, and James' true character reveals itself in a way that will change each man forever. [Summit Entertainment]'.\n"
     ]
    }
   ],
   "source": [
    "regex_summary = \"<div class=\\\"summary\\\">\\s*(.*)\\s*\"\n",
    "\n",
    "summaries = re.findall(regex_summary, txt)\n",
    "print(f\"Found {len(summaries)} matches. The first match is '{summaries[0]}'.\")"
   ]
  },
  {
   "attachments": {},
   "cell_type": "markdown",
   "metadata": {},
   "source": [
    "Find all Thumbnails for Movies in 2009"
   ]
  },
  {
   "cell_type": "code",
   "execution_count": 6,
   "metadata": {},
   "outputs": [
    {
     "name": "stdout",
     "output_type": "stream",
     "text": [
      "Found 103 matches. The first match is '/images/icons/metacritic-icon.svg'.\n"
     ]
    }
   ],
   "source": [
    "regex_img = \"><img src=\\\"(.*)\\\" alt=\"\n",
    "\n",
    "images = re.findall(regex_img, txt)\n",
    "print(f\"Found {len(images)} matches. The first match is '{images[0]}'.\")"
   ]
  },
  {
   "attachments": {},
   "cell_type": "markdown",
   "metadata": {},
   "source": [
    "Create a Table with Previous Information"
   ]
  },
  {
   "cell_type": "code",
   "execution_count": 11,
   "metadata": {},
   "outputs": [
    {
     "name": "stdout",
     "output_type": "stream",
     "text": [
      "                   Title MetaScore        Release Date   \n",
      "0        The Hurt Locker        95       June 26, 2009  \\\n",
      "1   Sita Sings the Blues        93   December 25, 2009   \n",
      "2        35 Shots of Rum        92  September 16, 2009   \n",
      "3          Still Walking        89     August 21, 2009   \n",
      "4           Goodbye Solo        89      March 27, 2009   \n",
      "..                   ...       ...                 ...   \n",
      "95       Pressure Cooker        72        May 27, 2009   \n",
      "96                    12        72       March 4, 2009   \n",
      "97              Jerichow        71        May 15, 2009   \n",
      "98              Disgrace        71  September 18, 2009   \n",
      "99               Bronson        71     October 9, 2009   \n",
      "\n",
      "                                              Summary   \n",
      "0   When a new sergeant, James (Jeremy Renner), ta...  \\\n",
      "1   Sita is a goddess separated from her beloved L...   \n",
      "2   A widowed conductor, looking forward to retire...   \n",
      "3   Fifteen years ago, Junpei, the youngest son of...   \n",
      "4   On the lonely roads of Winston-Salem, North Ca...   \n",
      "..                                                ...   \n",
      "95  Three seniors at Philadelphia's Frankford High...   \n",
      "96  A loose remake of “12 Angry Men”, 12 is set in...   \n",
      "97  In a small desolate town in northeastern  Germ...   \n",
      "98  Based on the Booker Prize winning novel by J.M...   \n",
      "99  In 1974, a misguided 19 year old named Michael...   \n",
      "\n",
      "                                            Thumbnail  \n",
      "0                   /images/icons/metacritic-icon.svg  \n",
      "1               /images/icons/metacritic-wordmark.svg  \n",
      "2                             /images/mobile/logo.png  \n",
      "3   https://static.metacritic.com/images/products/...  \n",
      "4   https://static.metacritic.com/images/products/...  \n",
      "..                                                ...  \n",
      "95  https://static.metacritic.com/images/products/...  \n",
      "96  https://static.metacritic.com/images/products/...  \n",
      "97  https://static.metacritic.com/images/products/...  \n",
      "98  https://static.metacritic.com/images/products/...  \n",
      "99  https://static.metacritic.com/images/products/...  \n",
      "\n",
      "[100 rows x 5 columns]\n"
     ]
    },
    {
     "name": "stdout",
     "output_type": "stream",
     "text": [
      "Collecting pandas\n",
      "  Downloading pandas-2.0.1-cp311-cp311-win_amd64.whl (10.6 MB)\n",
      "     ---------------------------------------- 10.6/10.6 MB 6.8 MB/s eta 0:00:00\n",
      "Requirement already satisfied: python-dateutil>=2.8.2 in c:\\users\\webbr\\appdata\\roaming\\python\\python311\\site-packages (from pandas) (2.8.2)\n",
      "Collecting pytz>=2020.1\n",
      "  Downloading pytz-2023.3-py2.py3-none-any.whl (502 kB)\n",
      "     -------------------------------------- 502.3/502.3 kB 3.5 MB/s eta 0:00:00\n",
      "Collecting tzdata>=2022.1\n",
      "  Downloading tzdata-2023.3-py2.py3-none-any.whl (341 kB)\n",
      "     ------------------------------------ 341.8/341.8 kB 505.5 kB/s eta 0:00:00\n",
      "Collecting numpy>=1.21.0\n",
      "  Downloading numpy-1.24.3-cp311-cp311-win_amd64.whl (14.8 MB)\n",
      "     ---------------------------------------- 14.8/14.8 MB 2.6 MB/s eta 0:00:00\n",
      "Requirement already satisfied: six>=1.5 in c:\\users\\webbr\\appdata\\roaming\\python\\python311\\site-packages (from python-dateutil>=2.8.2->pandas) (1.16.0)\n",
      "Installing collected packages: pytz, tzdata, numpy, pandas\n",
      "Successfully installed numpy-1.24.3 pandas-2.0.1 pytz-2023.3 tzdata-2023.3\n"
     ]
    },
    {
     "name": "stderr",
     "output_type": "stream",
     "text": [
      "  WARNING: The script f2py.exe is installed in 'c:\\Users\\webbr\\AppData\\Local\\Programs\\Python\\Python311\\Scripts' which is not on PATH.\n",
      "  Consider adding this directory to PATH or, if you prefer to suppress this warning, use --no-warn-script-location.\n",
      "\n",
      "[notice] A new release of pip available: 22.3.1 -> 23.1.1\n",
      "[notice] To update, run: python.exe -m pip install --upgrade pip\n"
     ]
    }
   ],
   "source": [
    "import pandas as pd\n",
    "dataframe = pd.DataFrame(list(zip(titles, scores, dates, summaries, images)), columns = [\"Title\", \"MetaScore\", \"Release Date\", \"Summary\", \"Thumbnail\"])\n",
    "print(dataframe)"
   ]
  }
 ],
 "metadata": {
  "kernelspec": {
   "display_name": "Python 3",
   "language": "python",
   "name": "python3"
  },
  "language_info": {
   "codemirror_mode": {
    "name": "ipython",
    "version": 3
   },
   "file_extension": ".py",
   "mimetype": "text/x-python",
   "name": "python",
   "nbconvert_exporter": "python",
   "pygments_lexer": "ipython3",
   "version": "3.11.3"
  },
  "orig_nbformat": 4
 },
 "nbformat": 4,
 "nbformat_minor": 2
}
